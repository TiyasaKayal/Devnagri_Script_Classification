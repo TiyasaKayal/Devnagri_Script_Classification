{
 "cells": [
  {
   "cell_type": "code",
   "execution_count": 1,
   "id": "13a7bc9e",
   "metadata": {},
   "outputs": [],
   "source": [
    "import numpy as np \n",
    "import pandas as pd\n",
    "import os\n",
    "import tensorflow as tf\n",
    "from tensorflow import keras\n",
    "from tensorflow.keras import layers\n",
    "from tensorflow.keras.models import Sequential\n",
    "\n",
    "from keras.preprocessing.image import ImageDataGenerator"
   ]
  },
  {
   "cell_type": "code",
   "execution_count": 2,
   "id": "6075169b",
   "metadata": {},
   "outputs": [],
   "source": [
    "datagen = ImageDataGenerator(rescale=1./255,\n",
    "                            validation_split = 0.1,rotation_range=30,\n",
    "                                    width_shift_range=0.2,\n",
    "                                    height_shift_range=0.2,\n",
    "                                    shear_range=0.2,\n",
    "                                    zoom_range=0.2,\n",
    "                                    horizontal_flip=True,\n",
    "                                    fill_mode='nearest')"
   ]
  },
  {
   "cell_type": "code",
   "execution_count": 3,
   "id": "906247f6",
   "metadata": {},
   "outputs": [
    {
     "name": "stdout",
     "output_type": "stream",
     "text": [
      "Found 70380 images belonging to 46 classes.\n"
     ]
    }
   ],
   "source": [
    "train_ds  = datagen.flow_from_directory(\n",
    "        'devnagri-script-classification/Data/Train',\n",
    "        target_size=(100, 100),\n",
    "        batch_size=1024,\n",
    "        subset='training',\n",
    "        class_mode='categorical')"
   ]
  },
  {
   "cell_type": "code",
   "execution_count": 4,
   "id": "333dd9de",
   "metadata": {},
   "outputs": [
    {
     "name": "stdout",
     "output_type": "stream",
     "text": [
      "Found 7820 images belonging to 46 classes.\n"
     ]
    }
   ],
   "source": [
    "val_ds  = datagen.flow_from_directory(\n",
    "         'devnagri-script-classification/Data/Train',\n",
    "        target_size=(100, 100),\n",
    "        batch_size=1024,\n",
    "        subset='validation',\n",
    "        class_mode='categorical')"
   ]
  },
  {
   "cell_type": "code",
   "execution_count": 5,
   "id": "1b420178",
   "metadata": {},
   "outputs": [
    {
     "data": {
      "text/plain": [
       "((1024, 100, 100, 3), (1024, 46))"
      ]
     },
     "execution_count": 5,
     "metadata": {},
     "output_type": "execute_result"
    }
   ],
   "source": [
    "img, lab = next(iter(train_ds ))\n",
    "img.shape, lab.shape"
   ]
  },
  {
   "cell_type": "code",
   "execution_count": 6,
   "id": "3207acf6",
   "metadata": {},
   "outputs": [
    {
     "data": {
      "text/plain": [
       "46"
      ]
     },
     "execution_count": 6,
     "metadata": {},
     "output_type": "execute_result"
    }
   ],
   "source": [
    "class_indices = train_ds.class_indices\n",
    "len(class_indices)"
   ]
  },
  {
   "cell_type": "code",
   "execution_count": 7,
   "id": "66d20040",
   "metadata": {},
   "outputs": [
    {
     "name": "stdout",
     "output_type": "stream",
     "text": [
      "Model: \"sequential\"\n",
      "_________________________________________________________________\n",
      "Layer (type)                 Output Shape              Param #   \n",
      "=================================================================\n",
      "conv2d (Conv2D)              (None, 100, 100, 16)      1216      \n",
      "_________________________________________________________________\n",
      "max_pooling2d (MaxPooling2D) (None, 33, 33, 16)        0         \n",
      "_________________________________________________________________\n",
      "conv2d_1 (Conv2D)            (None, 33, 33, 32)        12832     \n",
      "_________________________________________________________________\n",
      "max_pooling2d_1 (MaxPooling2 (None, 11, 11, 32)        0         \n",
      "_________________________________________________________________\n",
      "conv2d_2 (Conv2D)            (None, 11, 11, 64)        51264     \n",
      "_________________________________________________________________\n",
      "max_pooling2d_2 (MaxPooling2 (None, 3, 3, 64)          0         \n",
      "_________________________________________________________________\n",
      "conv2d_3 (Conv2D)            (None, 3, 3, 128)         204928    \n",
      "_________________________________________________________________\n",
      "conv2d_4 (Conv2D)            (None, 3, 3, 256)         819456    \n",
      "_________________________________________________________________\n",
      "max_pooling2d_3 (MaxPooling2 (None, 1, 1, 256)         0         \n",
      "_________________________________________________________________\n",
      "batch_normalization (BatchNo (None, 1, 1, 256)         1024      \n",
      "_________________________________________________________________\n",
      "flatten (Flatten)            (None, 256)               0         \n",
      "_________________________________________________________________\n",
      "dense (Dense)                (None, 1000)              257000    \n",
      "_________________________________________________________________\n",
      "dropout (Dropout)            (None, 1000)              0         \n",
      "_________________________________________________________________\n",
      "batch_normalization_1 (Batch (None, 1000)              4000      \n",
      "_________________________________________________________________\n",
      "dense_1 (Dense)              (None, 500)               500500    \n",
      "_________________________________________________________________\n",
      "dropout_1 (Dropout)          (None, 500)               0         \n",
      "_________________________________________________________________\n",
      "batch_normalization_2 (Batch (None, 500)               2000      \n",
      "_________________________________________________________________\n",
      "dense_2 (Dense)              (None, 100)               50100     \n",
      "_________________________________________________________________\n",
      "dropout_2 (Dropout)          (None, 100)               0         \n",
      "_________________________________________________________________\n",
      "batch_normalization_3 (Batch (None, 100)               400       \n",
      "_________________________________________________________________\n",
      "dense_3 (Dense)              (None, 46)                4646      \n",
      "=================================================================\n",
      "Total params: 1,909,366\n",
      "Trainable params: 1,905,654\n",
      "Non-trainable params: 3,712\n",
      "_________________________________________________________________\n"
     ]
    }
   ],
   "source": [
    "from tensorflow import keras\n",
    "from keras.models import Sequential\n",
    "from keras.layers import Conv2D, MaxPool2D, Flatten, Dropout, Dense,Activation,BatchNormalization,GlobalAveragePooling2D\n",
    "from keras.layers import MaxPooling2D\n",
    "from tensorflow.keras import Model, Input\n",
    "model = Sequential()\n",
    "\n",
    "#1 conv layer\n",
    "model.add(Conv2D(filters = 16, kernel_size = 5, activation = \"relu\",input_shape=(100,100,3),padding=\"same\"))\n",
    "\n",
    "#1 max pool layer\n",
    "model.add(MaxPooling2D(pool_size = 3))\n",
    "\n",
    "#2 conv layer\n",
    "model.add(Conv2D(filters = 32, kernel_size = 5, activation = \"relu\",padding=\"same\"))\n",
    "\n",
    "#2 max pool layer\n",
    "model.add(MaxPooling2D(pool_size = 3))\n",
    "\n",
    "#3 conv layer\n",
    "model.add(Conv2D(filters = 64, kernel_size = 5, activation = \"relu\",padding=\"same\"))\n",
    "\n",
    "#3 max pool layer\n",
    "model.add(MaxPooling2D(pool_size = 3))\n",
    "\n",
    "#4 conv layer\n",
    "model.add(Conv2D(filters = 128, kernel_size = 5, activation = \"relu\",padding=\"same\"))\n",
    "\n",
    "# 5 conv layer \n",
    "model.add(Conv2D(filters = 256, kernel_size = 5, activation = \"relu\",padding=\"same\"))\n",
    "\n",
    "#4 max pool layer\n",
    "model.add(MaxPooling2D(pool_size = 3))\n",
    "\n",
    "model.add(BatchNormalization())\n",
    "\n",
    "model.add(Flatten())\n",
    "\n",
    "\n",
    "#1 dense layer\n",
    "model.add(Dense(1000, input_shape = (100,100,3), activation = \"relu\"))\n",
    "\n",
    "model.add(Dropout(0.3))\n",
    "\n",
    "model.add(BatchNormalization())\n",
    "\n",
    "#2 dense layer\n",
    "model.add(Dense(500, activation = \"relu\"))\n",
    "\n",
    "model.add(Dropout(0.3))\n",
    "\n",
    "model.add(BatchNormalization())\n",
    "\n",
    "#3 dense layer \n",
    "model.add(Dense(100, activation = \"relu\"))\n",
    "\n",
    "model.add(Dropout(0.3))\n",
    "\n",
    "model.add(BatchNormalization())\n",
    "\n",
    "#output layer\n",
    "model.add(Dense(46,activation=\"softmax\"))\n",
    "\n",
    "model.summary()"
   ]
  },
  {
   "cell_type": "code",
   "execution_count": 8,
   "id": "b94aa16e",
   "metadata": {},
   "outputs": [],
   "source": [
    "model.compile(optimizer=\"RMSprop\",loss='categorical_crossentropy',metrics=['accuracy'])"
   ]
  },
  {
   "cell_type": "code",
   "execution_count": 9,
   "id": "778142a3",
   "metadata": {},
   "outputs": [
    {
     "name": "stdout",
     "output_type": "stream",
     "text": [
      "Epoch 1/10\n",
      "69/69 [==============================] - 328s 5s/step - loss: 3.2279 - accuracy: 0.1683 - val_loss: 3.7406 - val_accuracy: 0.0293\n",
      "Epoch 2/10\n",
      "69/69 [==============================] - 321s 5s/step - loss: 2.0178 - accuracy: 0.4363 - val_loss: 3.7102 - val_accuracy: 0.0601\n",
      "Epoch 3/10\n",
      "69/69 [==============================] - 354s 5s/step - loss: 1.3791 - accuracy: 0.6028 - val_loss: 3.6532 - val_accuracy: 0.1059\n",
      "Epoch 4/10\n",
      "69/69 [==============================] - 325s 5s/step - loss: 1.0108 - accuracy: 0.7051 - val_loss: 3.2303 - val_accuracy: 0.1325\n",
      "Epoch 5/10\n",
      "69/69 [==============================] - 323s 5s/step - loss: 0.7808 - accuracy: 0.7706 - val_loss: 2.4394 - val_accuracy: 0.2647\n",
      "Epoch 6/10\n",
      "69/69 [==============================] - 327s 5s/step - loss: 0.6270 - accuracy: 0.8160 - val_loss: 1.3376 - val_accuracy: 0.5834\n",
      "Epoch 7/10\n",
      "69/69 [==============================] - 332s 5s/step - loss: 0.5334 - accuracy: 0.8433 - val_loss: 1.0854 - val_accuracy: 0.6802\n",
      "Epoch 8/10\n",
      "69/69 [==============================] - 346s 5s/step - loss: 0.4685 - accuracy: 0.8610 - val_loss: 0.7365 - val_accuracy: 0.7884\n",
      "Epoch 9/10\n",
      "69/69 [==============================] - 348s 5s/step - loss: 0.4154 - accuracy: 0.8780 - val_loss: 0.6289 - val_accuracy: 0.8063\n",
      "Epoch 10/10\n",
      "69/69 [==============================] - 345s 5s/step - loss: 0.3908 - accuracy: 0.8852 - val_loss: 0.6072 - val_accuracy: 0.8226\n"
     ]
    }
   ],
   "source": [
    "from tensorflow.keras.callbacks import EarlyStopping, ModelCheckpoint\n",
    "early_stop = EarlyStopping(monitor='val_loss',patience=5)\n",
    "\n",
    "batch_size=100\n",
    "epochs=10\n",
    "\n",
    "history = model.fit(train_ds,\n",
    "                    epochs=epochs,\n",
    "                    verbose=1,\n",
    "                    validation_data=val_ds,\n",
    "                    callbacks = [early_stop])"
   ]
  },
  {
   "cell_type": "code",
   "execution_count": 10,
   "id": "f9a92942",
   "metadata": {},
   "outputs": [],
   "source": [
    "test_image = tf.io.gfile.listdir('devnagri-script-classification/Data/Test')\n",
    "images = []\n",
    "for f in test_image:\n",
    "    img = tf.keras.preprocessing.image.load_img('devnagri-script-classification/Data/Test'+'//'+ f, color_mode = \"rgb\", target_size = (100,100))\n",
    "    img = tf.keras.preprocessing.image.img_to_array(img)\n",
    "    img=img/255\n",
    "    images.append(img)\n",
    "test=np.array(images)"
   ]
  },
  {
   "cell_type": "code",
   "execution_count": 1,
   "id": "30ed3c9d",
   "metadata": {},
   "outputs": [
    {
     "ename": "NameError",
     "evalue": "name 'model' is not defined",
     "output_type": "error",
     "traceback": [
      "\u001b[1;31m---------------------------------------------------------------------------\u001b[0m",
      "\u001b[1;31mNameError\u001b[0m                                 Traceback (most recent call last)",
      "\u001b[1;32m<ipython-input-1-ce36d38fc0d6>\u001b[0m in \u001b[0;36m<module>\u001b[1;34m\u001b[0m\n\u001b[1;32m----> 1\u001b[1;33m \u001b[0mpred\u001b[0m \u001b[1;33m=\u001b[0m \u001b[0mmodel\u001b[0m\u001b[1;33m.\u001b[0m\u001b[0mpredict\u001b[0m\u001b[1;33m(\u001b[0m\u001b[0mtest\u001b[0m\u001b[1;33m)\u001b[0m\u001b[1;33m\u001b[0m\u001b[1;33m\u001b[0m\u001b[0m\n\u001b[0m\u001b[0;32m      2\u001b[0m \u001b[0mpred\u001b[0m\u001b[1;33m\u001b[0m\u001b[1;33m\u001b[0m\u001b[0m\n",
      "\u001b[1;31mNameError\u001b[0m: name 'model' is not defined"
     ]
    }
   ],
   "source": [
    "pred = model.predict(test)\n",
    "pred"
   ]
  },
  {
   "cell_type": "code",
   "execution_count": 13,
   "id": "8696b284",
   "metadata": {},
   "outputs": [],
   "source": [
    "pred=np.argmax(pred,axis=1)"
   ]
  },
  {
   "cell_type": "code",
   "execution_count": 14,
   "id": "c641da23",
   "metadata": {},
   "outputs": [],
   "source": [
    "class_indices = dict([(value, key) for key, value in class_indices.items()])\n",
    "\n",
    "pred = list(map(class_indices.get, pred))"
   ]
  },
  {
   "cell_type": "code",
   "execution_count": 15,
   "id": "aacb7cd8",
   "metadata": {},
   "outputs": [
    {
     "data": {
      "text/html": [
       "<div>\n",
       "<style scoped>\n",
       "    .dataframe tbody tr th:only-of-type {\n",
       "        vertical-align: middle;\n",
       "    }\n",
       "\n",
       "    .dataframe tbody tr th {\n",
       "        vertical-align: top;\n",
       "    }\n",
       "\n",
       "    .dataframe thead th {\n",
       "        text-align: right;\n",
       "    }\n",
       "</style>\n",
       "<table border=\"1\" class=\"dataframe\">\n",
       "  <thead>\n",
       "    <tr style=\"text-align: right;\">\n",
       "      <th></th>\n",
       "      <th>id</th>\n",
       "      <th>category</th>\n",
       "    </tr>\n",
       "  </thead>\n",
       "  <tbody>\n",
       "    <tr>\n",
       "      <th>13795</th>\n",
       "      <td>9995.png</td>\n",
       "      <td>character_33_ha</td>\n",
       "    </tr>\n",
       "    <tr>\n",
       "      <th>13796</th>\n",
       "      <td>9996.png</td>\n",
       "      <td>character_7_chha</td>\n",
       "    </tr>\n",
       "    <tr>\n",
       "      <th>13797</th>\n",
       "      <td>9997.png</td>\n",
       "      <td>character_7_chha</td>\n",
       "    </tr>\n",
       "    <tr>\n",
       "      <th>13798</th>\n",
       "      <td>9998.png</td>\n",
       "      <td>character_7_chha</td>\n",
       "    </tr>\n",
       "    <tr>\n",
       "      <th>13799</th>\n",
       "      <td>9999.png</td>\n",
       "      <td>character_7_chha</td>\n",
       "    </tr>\n",
       "  </tbody>\n",
       "</table>\n",
       "</div>"
      ],
      "text/plain": [
       "             id          category\n",
       "13795  9995.png   character_33_ha\n",
       "13796  9996.png  character_7_chha\n",
       "13797  9997.png  character_7_chha\n",
       "13798  9998.png  character_7_chha\n",
       "13799  9999.png  character_7_chha"
      ]
     },
     "execution_count": 15,
     "metadata": {},
     "output_type": "execute_result"
    }
   ],
   "source": [
    "submission1 = pd.DataFrame({'id': test_image,'category': pred})\n",
    "submission1.tail()"
   ]
  },
  {
   "cell_type": "code",
   "execution_count": 16,
   "id": "73520a63",
   "metadata": {},
   "outputs": [],
   "source": [
    "submission1.to_csv(\"submission1.csv\",index=False)"
   ]
  },
  {
   "cell_type": "code",
   "execution_count": null,
   "id": "19b4105f",
   "metadata": {},
   "outputs": [],
   "source": []
  }
 ],
 "metadata": {
  "kernelspec": {
   "display_name": "Python 3",
   "language": "python",
   "name": "python3"
  },
  "language_info": {
   "codemirror_mode": {
    "name": "ipython",
    "version": 3
   },
   "file_extension": ".py",
   "mimetype": "text/x-python",
   "name": "python",
   "nbconvert_exporter": "python",
   "pygments_lexer": "ipython3",
   "version": "3.8.8"
  }
 },
 "nbformat": 4,
 "nbformat_minor": 5
}
